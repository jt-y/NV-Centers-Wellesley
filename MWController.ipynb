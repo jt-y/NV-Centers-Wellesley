{
 "cells": [
  {
   "cell_type": "code",
   "execution_count": 10,
   "metadata": {},
   "outputs": [
    {
     "name": "stdout",
     "output_type": "stream",
     "text": [
      "2841000\n",
      "2842000\n",
      "2843000\n",
      "2844000\n",
      "2845000\n",
      "2846000\n",
      "2847000\n",
      "2848000\n",
      "2849000\n",
      "2850000\n",
      "2851000\n",
      "2852000\n",
      "2853000\n",
      "2854000\n",
      "2855000\n",
      "2856000\n",
      "2857000\n",
      "2858000\n",
      "2859000\n",
      "2860000\n",
      "2861000\n",
      "2862000\n",
      "2863000\n",
      "2864000\n",
      "2865000\n",
      "2866000\n",
      "2867000\n",
      "2868000\n",
      "2869000\n",
      "2870000\n",
      "2871000\n",
      "2872000\n",
      "2873000\n",
      "2874000\n",
      "2875000\n",
      "2876000\n",
      "2877000\n",
      "2878000\n",
      "2879000\n",
      "2880000\n",
      "2881000\n",
      "2882000\n",
      "2883000\n",
      "2884000\n",
      "2885000\n",
      "2886000\n",
      "2887000\n",
      "2888000\n",
      "2889000\n",
      "2890000\n",
      "2891000\n",
      "2892000\n",
      "2893000\n",
      "2894000\n",
      "2895000\n",
      "2896000\n",
      "2897000\n",
      "2898000\n",
      "2899000\n",
      "2900000\n",
      "2901000\n",
      "2902000\n",
      "2903000\n",
      "2904000\n",
      "2905000\n",
      "2906000\n",
      "2907000\n",
      "2908000\n",
      "2909000\n",
      "2910000\n",
      "2911000\n",
      "2912000\n",
      "2913000\n",
      "2914000\n",
      "2915000\n",
      "2916000\n",
      "2917000\n",
      "2918000\n",
      "2919000\n",
      "2920000\n"
     ]
    },
    {
     "data": {
      "text/plain": [
       "5"
      ]
     },
     "execution_count": 10,
     "metadata": {},
     "output_type": "execute_result"
    }
   ],
   "source": [
    "import serial\n",
    "import time\n",
    "import numpy as np\n",
    "import matplotlib as plt\n",
    "\n",
    "# open serial connection to microwave source\n",
    "s = serial.Serial('/dev/cu.usbserial-DA009KJC', baudrate=9600, timeout = 1)\n",
    "\n",
    "# set low frequency (in kHz)\n",
    "s.write('LF 2800000;'.encode())\n",
    "\n",
    "# set high frequency (in kHz)\n",
    "s.write('HF 2950000;'.encode())\n",
    "\n",
    "# set attenuation (in dB)\n",
    "s.write('AT 0;'.encode())\n",
    "\n",
    "# set up and down sweep rates (in MHz/s)\n",
    "s.write('UR 10;'.encode())\n",
    "s.write('DR 10;'.encode())\n",
    " \n",
    "# turn on the microwave source\n",
    "s.write('ON 1;'.encode())\n",
    "\n",
    "# manually sweep the frequency: keep changing the low frequency (when no\n",
    "# sweep input, the microwave source will go to the low frequency)\n",
    "lf = 2840000\n",
    "freq = np.zeros(151)\n",
    "i = 1\n",
    "dt = 1\n",
    "\n",
    "# pause for 12 seconds\n",
    "#time.sleep(12)\n",
    "\n",
    "while lf < 2920000:\n",
    "    start = time.time()\n",
    "    lfstr = str(lf);\n",
    "    lfstr = 'LF ' + lfstr + ';'\n",
    "    s.write(lfstr.encode())\n",
    "    freq[i] = lf\n",
    "   \n",
    "    i = i + 1\n",
    "    lf = lf + 1000\n",
    "    end = time.time()\n",
    "    \n",
    "    print(lf)\n",
    "    \n",
    "    while (end - start) < dt:\n",
    "        end = time.time()\n",
    "    \n",
    "\n",
    "\n",
    "# turn off the microwave source\n",
    "s.write('ON 0;'.encode())\n"
   ]
  },
  {
   "cell_type": "code",
   "execution_count": 7,
   "metadata": {},
   "outputs": [
    {
     "data": {
      "text/plain": [
       "6"
      ]
     },
     "execution_count": 7,
     "metadata": {},
     "output_type": "execute_result"
    }
   ],
   "source": []
  },
  {
   "cell_type": "code",
   "execution_count": 8,
   "metadata": {},
   "outputs": [
    {
     "data": {
      "text/plain": [
       "5"
      ]
     },
     "execution_count": 8,
     "metadata": {},
     "output_type": "execute_result"
    }
   ],
   "source": []
  },
  {
   "cell_type": "code",
   "execution_count": 9,
   "metadata": {},
   "outputs": [
    {
     "name": "stdout",
     "output_type": "stream",
     "text": [
      "2851000\n",
      "2852000\n",
      "2853000\n",
      "2854000\n",
      "2855000\n",
      "2856000\n",
      "2857000\n",
      "2858000\n",
      "2859000\n",
      "2860000\n",
      "2861000\n",
      "2862000\n",
      "2863000\n",
      "2864000\n",
      "2865000\n",
      "2866000\n",
      "2867000\n",
      "2868000\n",
      "2869000\n",
      "2870000\n",
      "2871000\n",
      "2872000\n",
      "2873000\n",
      "2874000\n",
      "2875000\n",
      "2876000\n",
      "2877000\n",
      "2878000\n",
      "2879000\n",
      "2880000\n",
      "2881000\n",
      "2882000\n",
      "2883000\n",
      "2884000\n",
      "2885000\n",
      "2886000\n",
      "2887000\n",
      "2888000\n",
      "2889000\n",
      "2890000\n"
     ]
    },
    {
     "data": {
      "text/plain": [
       "5"
      ]
     },
     "execution_count": 9,
     "metadata": {},
     "output_type": "execute_result"
    }
   ],
   "source": [
    "\n"
   ]
  },
  {
   "cell_type": "code",
   "execution_count": null,
   "metadata": {},
   "outputs": [],
   "source": []
  }
 ],
 "metadata": {
  "kernelspec": {
   "display_name": "Python 3",
   "language": "python",
   "name": "python3"
  },
  "language_info": {
   "codemirror_mode": {
    "name": "ipython",
    "version": 3
   },
   "file_extension": ".py",
   "mimetype": "text/x-python",
   "name": "python",
   "nbconvert_exporter": "python",
   "pygments_lexer": "ipython3",
   "version": "3.7.6"
  }
 },
 "nbformat": 4,
 "nbformat_minor": 4
}
